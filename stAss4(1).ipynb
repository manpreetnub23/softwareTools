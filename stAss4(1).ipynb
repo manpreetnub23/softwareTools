{
 "cells": [
  {
   "cell_type": "code",
   "execution_count": 1,
   "metadata": {},
   "outputs": [],
   "source": [
    "import numpy as np\n",
    "import pandas as pd"
   ]
  },
  {
   "cell_type": "code",
   "execution_count": 4,
   "metadata": {},
   "outputs": [
    {
     "name": "stdout",
     "output_type": "stream",
     "text": [
      "2 3\n"
     ]
    }
   ],
   "source": [
    "m, n = input(\"enter number of rows and columns : \").split()\n",
    "m, n = int(m), int(n)\n",
    "print(m, n)"
   ]
  },
  {
   "cell_type": "code",
   "execution_count": 5,
   "metadata": {},
   "outputs": [],
   "source": [
    "arr = np.zeros((m, n))\n",
    "for i in range(m):\n",
    "    for j in range(n):\n",
    "        arr[i][j] = int(input(f\"enter elements arr[{i}][{j}] : \"))"
   ]
  },
  {
   "cell_type": "code",
   "execution_count": null,
   "metadata": {},
   "outputs": [],
   "source": [
    "prod = 1\n",
    "for i in range(m):\n",
    "    for j in range(n):\n",
    "        if (arr[i][j] % 2 == 0):\n",
    "            prod *= arr[i][j]\n",
    "    if(prod == 1):\n",
    "        prod = 0\n",
    "        "
   ]
  },
  {
   "cell_type": "code",
   "execution_count": 27,
   "metadata": {},
   "outputs": [],
   "source": [
    "def func():\n",
    "    m, n = input(\"enter number of rows and columns : \").split()\n",
    "    m, n = int(m), int(n)\n",
    "    print(m, n)\n",
    "    # taking input for arrat\n",
    "    arr = np.zeros((m, n))\n",
    "    for i in range(m):\n",
    "        for j in range(n):\n",
    "            arr[i][j] = int(input(f\"enter elements arr[{i}][{j}] : \"))\n",
    "    # logic\n",
    "    prod = 1\n",
    "    sum = 0\n",
    "    count = 0\n",
    "    for i in range(m):\n",
    "        for j in range(n):\n",
    "            if arr[i][j] % 2 == 0:\n",
    "                prod *= arr[i][j]\n",
    "            if arr[i][j] > 0:\n",
    "                sum += arr[i][j]\n",
    "            if arr[i][j] % 2 != 0:\n",
    "                count += 1\n",
    "    if count == m * n:\n",
    "        print(\"no even\")\n",
    "        return 0\n",
    "    if prod == 1:\n",
    "        prod = 0\n",
    "    if sum == 0:\n",
    "        print(\"division by 0\")\n",
    "        return -1\n",
    "    return prod / sum"
   ]
  },
  {
   "cell_type": "code",
   "execution_count": 25,
   "metadata": {},
   "outputs": [
    {
     "name": "stdout",
     "output_type": "stream",
     "text": [
      "2 3\n",
      "division by 0\n"
     ]
    },
    {
     "data": {
      "text/plain": [
       "-1"
      ]
     },
     "execution_count": 25,
     "metadata": {},
     "output_type": "execute_result"
    }
   ],
   "source": [
    "func()"
   ]
  },
  {
   "cell_type": "code",
   "execution_count": null,
   "metadata": {},
   "outputs": [],
   "source": [
    "# [-1 -2 3]\n",
    "# [ 5  6 2]\n",
    "C:\\Users\\dell\\Downloads\\temp\\C++\\stAss4(1).ipynb"
   ]
  }
 ],
 "metadata": {
  "kernelspec": {
   "display_name": "Python 3",
   "language": "python",
   "name": "python3"
  },
  "language_info": {
   "codemirror_mode": {
    "name": "ipython",
    "version": 3
   },
   "file_extension": ".py",
   "mimetype": "text/x-python",
   "name": "python",
   "nbconvert_exporter": "python",
   "pygments_lexer": "ipython3",
   "version": "3.12.1"
  }
 },
 "nbformat": 4,
 "nbformat_minor": 2
}
